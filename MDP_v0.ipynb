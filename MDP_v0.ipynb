{
 "cells": [
  {
   "cell_type": "code",
   "execution_count": 239,
   "metadata": {
    "collapsed": true
   },
   "outputs": [],
   "source": [
    "import sys\n",
    "\n",
    "import numpy as np\n",
    "import pandas as pd\n",
    "import mdptoolbox as mdp\n",
    "\n",
    "import itertools as it\n",
    "import pprint as pp\n",
    "from scipy.stats import binom"
   ]
  },
  {
   "cell_type": "code",
   "execution_count": 240,
   "metadata": {},
   "outputs": [],
   "source": [
    "np.set_printoptions(threshold=sys.maxsize)"
   ]
  },
  {
   "cell_type": "code",
   "execution_count": 241,
   "metadata": {
    "collapsed": true
   },
   "outputs": [],
   "source": [
    "# NOTATION\n",
    "\n",
    "# rplant - renewable plant \n",
    "# fplant - fossil fuel plant\n",
    "# RES - referring to renewable plant\n",
    "# FF - referring to fossil fuel plant"
   ]
  },
  {
   "cell_type": "code",
   "execution_count": 342,
   "metadata": {
    "collapsed": true
   },
   "outputs": [],
   "source": [
    "# VARIABLES\n",
    "\n",
    "N_YEARS = 3\n",
    "N_TECHSTAGES = 3\n",
    "N_PLANTS = 3\n",
    "\n",
    "# Starting price of carbon per ton.\n",
    "C_CO2_INIT = 40\n",
    "# Initial construction costs of a renewable plant per kW (average of solar PV and onshore wind).\n",
    "C_CAP_RES = [1284, 746, 456]\n",
    "# Annual operation & maintenance costs of a fossil fuel plant per kW (average of coal and natural gas).\n",
    "C_OM_FF = 68.8\n",
    "# Annual emissions of a fossil fuel plant in kg CO2 per kWh (average of coal and natural gas).\n",
    "FF_EMIT = 2.03\n",
    "\n",
    "# Probability that tech stage advances to the next given the current stage is not the highest. \n",
    "# Assume it is only possible to advance by 1 at a time.\n",
    "P_ADV_TECHSTAGE = 0.25\n",
    "\n",
    "# Probability that a renewable plant \"fails\" at the end of the year.\n",
    "# A plant that fails is replaced in the next year for the same cost as building a new plant.\n",
    "RPLANT_LIFE = 25\n",
    "P_RPLANT_FAIL = 1 / RPLANT_LIFE\n",
    "\n",
    "# Discount rate (average of solar PV and onshore wind in North America).\n",
    "DISC_RATE = 0.06"
   ]
  },
  {
   "cell_type": "code",
   "execution_count": 343,
   "metadata": {},
   "outputs": [],
   "source": [
    "# COST FUNCTION\n",
    "\n",
    "def calc_cost(t, v, r, a):\n",
    "    carbontax = C_CO2_INIT * (1.05 ** t)\n",
    "    cost_fplants = (N_PLANTS - a) * (C_OM_FF + FF_EMIT * carbontax)\n",
    "    # Assume renewable plants cost nothing after construction.\n",
    "    cost_rplants = a * C_CAP_RES[v]\n",
    "    total = cost_rplants + cost_fplants\n",
    "    return round(total)"
   ]
  },
  {
   "cell_type": "code",
   "execution_count": 344,
   "metadata": {},
   "outputs": [],
   "source": [
    "# STATE SPACE\n",
    "\n",
    "# State space includes:\n",
    "    # T = Time \n",
    "        # Range 2020 to 2050 years\n",
    "    # (Carbon tax) \n",
    "        # Deterministic given time\n",
    "        # Starting at $40/ton increases 5% per year\n",
    "    # V = Tech \"stage\" \n",
    "        # Represents how advanced current energy technologies are\n",
    "    # N_r = Number of renewable power plants \n",
    "        # Out of N total plants\n",
    "        # Number of fossil fuel plants is N - N_r\n",
    "        \n",
    "S = (N_YEARS+1) * (N_TECHSTAGES) * (N_PLANTS+1)\n",
    "\n",
    "# Create mapping between state and unique integer ID.\n",
    "def enumerate_states(n_years, n_techstages, n_plants):\n",
    "    state_to_id = {}\n",
    "    idx = 0\n",
    "    iter_states = it.product(np.arange(n_years+1), np.arange(n_techstages), np.arange(n_plants+1))\n",
    "    for state in iter_states:\n",
    "        (t, v, r) = state\n",
    "        state_to_id[state] = idx\n",
    "        idx += 1\n",
    "    return state_to_id"
   ]
  },
  {
   "cell_type": "code",
   "execution_count": 345,
   "metadata": {
    "collapsed": true
   },
   "outputs": [],
   "source": [
    "state_to_id = enumerate_states(N_YEARS, N_TECHSTAGES, N_PLANTS)\n",
    "id_to_state = {v: k for k, v in state_to_id.items()}\n",
    "#pp.pprint(state_to_id)"
   ]
  },
  {
   "cell_type": "code",
   "execution_count": 346,
   "metadata": {
    "collapsed": true
   },
   "outputs": [],
   "source": [
    "# ACTION SPACE\n",
    "\n",
    "# Possible actions:\n",
    "    # 0 -- Do nothing\n",
    "    # 1...N -- Convert 1...N fossil fuel plants to renewable plants\n",
    "# An invalid action attempts to convert more fossil fuel plants than remain. \n",
    "    \n",
    "A = N_PLANTS + 1"
   ]
  },
  {
   "cell_type": "code",
   "execution_count": 380,
   "metadata": {},
   "outputs": [],
   "source": [
    "# TRANSITION PROBABILITIES\n",
    "\n",
    "transitions = np.zeros([A, S, S])\n",
    "\n",
    "def fill_trans_donothing(transitions, a, state=None):\n",
    "    iter_states = []\n",
    "    if state is not None:\n",
    "        iter_states.append(state)\n",
    "    else:\n",
    "        iter_states = it.product(np.arange(N_YEARS+1), np.arange(N_TECHSTAGES), np.arange(N_PLANTS+1))\n",
    "    for state in iter_states:\n",
    "        (t, v, r) = state\n",
    "        state_curr = state\n",
    "        idx_curr = state_to_id[state_curr]\n",
    "#         print(\"donothing beg: \", state_curr, transitions[a][idx_curr])\n",
    "        assert np.sum(transitions[a][idx_curr]) == 0.0, np.sum(transitions[a][idx_curr])\n",
    "#         transitions[a][idx_curr].fill(0.0)\n",
    "#         print(\"donothing start: \", state, np.sum(transitions[a][idx_curr]), transitions[a][idx_curr])\n",
    "        if t == N_YEARS:\n",
    "            transitions[a][idx_curr][idx_curr] = 1.0\n",
    "            continue\n",
    "        rplants_existing = np.arange(r+1)\n",
    "        # FAILURE LOOP\n",
    "        # Any number of existing renewable plants may fail (at end of year).\n",
    "        for e in rplants_existing:\n",
    "            prob_fail = binom.pmf(e, r, P_RPLANT_FAIL)\n",
    "            state_next = (t+1, v, r-e)\n",
    "            idx_next = state_to_id[state_next]\n",
    "            if v < N_TECHSTAGES - 1:\n",
    "                state_next_v = (t+1, v+1, r-e)\n",
    "                idx_next_v = state_to_id[state_next_v]\n",
    "                # Tech stage may remain the same.\n",
    "                transitions[a][idx_curr][idx_next] = (1.0-P_ADV_TECHSTAGE) * prob_fail\n",
    "                # Tech stage may advance (assume only possible to advance by 1).\n",
    "                transitions[a][idx_curr][idx_next_v] = P_ADV_TECHSTAGE * prob_fail\n",
    "            else:\n",
    "                # Tech stage must remain the same.\n",
    "                transitions[a][idx_curr][idx_next] = prob_fail\n",
    "#         print(\"donothing end\", state, np.sum(transitions[a][idx_curr]))\n",
    "#         print(state, np.sum(transitions[a][idx_curr]), \":\", transitions[a][idx_curr])\n",
    "        assert np.isclose(np.sum(transitions[a][idx_curr]), 1.0), np.sum(transitions[a][idx_curr])\n",
    "\n",
    "def fill_trans_other(transitions):\n",
    "    iter_states = it.product(np.arange(N_YEARS+1), np.arange(N_TECHSTAGES), np.arange(N_PLANTS+1))\n",
    "    for state in iter_states:\n",
    "        (t, v, r) = state\n",
    "        state_curr = state\n",
    "        idx_curr = state_to_id[state_curr]\n",
    "        rplants_existing = np.arange(r+1)\n",
    "        # ACTION LOOP\n",
    "        # From 1 up to number of fossil fuel plants remaining may be converted.\n",
    "        for a in np.arange(1, A):\n",
    "            # Transition doesn't matter for final year as long as it exists. \n",
    "            if t == N_YEARS:\n",
    "                transitions[a][idx_curr][idx_curr] = 1.0\n",
    "                continue\n",
    "            if a > N_PLANTS-r:\n",
    "#                 print(\"invalid: \", a, state)\n",
    "#                 print(transitions[a][idx_curr])\n",
    "                # Dummy transitions for invalid actions. \n",
    "                fill_trans_donothing(transitions, a, state)\n",
    "            else:\n",
    "                # FAILURE LOOP\n",
    "                # Any number of existing renewable plants may fail (at end of year).\n",
    "                for e in rplants_existing:\n",
    "                    prob_fail = binom.pmf(e, r, P_RPLANT_FAIL)\n",
    "                    state_next_r = (t+1, v, r+a-e)\n",
    "                    idx_next_r = state_to_id[state_next_r]\n",
    "                    if v < N_TECHSTAGES - 1:\n",
    "                        state_next_r_v = (t+1, v+1, r+a-e)\n",
    "                        idx_next_r_v = state_to_id[state_next_r_v]\n",
    "                        # Tech stage may remain the same.\n",
    "                        transitions[a][idx_curr][idx_next_r] = (1.0-P_ADV_TECHSTAGE) * prob_fail\n",
    "                        # Tech stage may advance.\n",
    "                        transitions[a][idx_curr][idx_next_r_v] = P_ADV_TECHSTAGE * prob_fail\n",
    "                    else:\n",
    "                        # Tech stage must remain the same.\n",
    "                        transitions[a][idx_curr][idx_next_r] = prob_fail\n",
    "#             print(\"OTHER\", a, state, np.sum(transitions[a][idx_curr]))\n",
    "#             print(state, \"--\", np.sum(transitions[a][idx_curr]), \":\", transitions[a][idx_curr])\n",
    "            assert np.isclose(np.sum(transitions[a][idx_curr]), 1.0), np.sum(transitions[a][idx_curr])\n",
    "            transitions[a][idx_curr] = transitions[a][idx_curr] / np.sum(transitions[a][idx_curr])"
   ]
  },
  {
   "cell_type": "code",
   "execution_count": 381,
   "metadata": {},
   "outputs": [],
   "source": [
    "fill_trans_donothing(transitions, 0)\n",
    "#print(transitions[0]) 18 22 23 28"
   ]
  },
  {
   "cell_type": "code",
   "execution_count": 382,
   "metadata": {},
   "outputs": [
    {
     "name": "stdout",
     "output_type": "stream",
     "text": [
      "[[1. 1. 1. 1. 1. 1. 1. 1. 1. 1. 1. 1. 1. 1. 1. 1. 1. 1. 1. 1. 1. 1. 1. 1.\n",
      "  1. 1. 1. 1. 1. 1. 1. 1. 1. 1. 1. 1. 1. 1. 1. 1. 1. 1. 1. 1. 1. 1. 1. 1.]\n",
      " [1. 1. 1. 1. 1. 1. 1. 1. 1. 1. 1. 1. 1. 1. 1. 1. 1. 1. 1. 1. 1. 1. 1. 1.\n",
      "  1. 1. 1. 1. 1. 1. 1. 1. 1. 1. 1. 1. 1. 1. 1. 1. 1. 1. 1. 1. 1. 1. 1. 1.]\n",
      " [1. 1. 1. 1. 1. 1. 1. 1. 1. 1. 1. 1. 1. 1. 1. 1. 1. 1. 1. 1. 1. 1. 1. 1.\n",
      "  1. 1. 1. 1. 1. 1. 1. 1. 1. 1. 1. 1. 1. 1. 1. 1. 1. 1. 1. 1. 1. 1. 1. 1.]\n",
      " [1. 1. 1. 1. 1. 1. 1. 1. 1. 1. 1. 1. 1. 1. 1. 1. 1. 1. 1. 1. 1. 1. 1. 1.\n",
      "  1. 1. 1. 1. 1. 1. 1. 1. 1. 1. 1. 1. 1. 1. 1. 1. 1. 1. 1. 1. 1. 1. 1. 1.]]\n"
     ]
    }
   ],
   "source": [
    "fill_trans_other(transitions)\n",
    "print(np.sum(transitions, axis=2))"
   ]
  },
  {
   "cell_type": "code",
   "execution_count": 383,
   "metadata": {},
   "outputs": [],
   "source": [
    "# REWARD MATRIX\n",
    "\n",
    "rewards = np.zeros([A, S, S])\n",
    "\n",
    "def fill_rewards(rewards, S):\n",
    "    for a in np.arange(A):\n",
    "        for s in np.arange(S):\n",
    "            state = id_to_state[s]\n",
    "            idx = state_to_id[state]\n",
    "            # Sanity check for integer id.\n",
    "            assert(idx == s)\n",
    "            (t, v, r) = state\n",
    "            if a > N_PLANTS-r:\n",
    "                # For invalid actions, assume cost for highest action possible.\n",
    "                cost = calc_cost(t, v, r, N_PLANTS-r)\n",
    "            else:\n",
    "                cost = calc_cost(t, v, r, a)\n",
    "            rewards[a][idx].fill(cost)     "
   ]
  },
  {
   "cell_type": "code",
   "execution_count": 384,
   "metadata": {
    "collapsed": true
   },
   "outputs": [],
   "source": [
    "fill_rewards(rewards, S)\n",
    "#print(rewards) "
   ]
  },
  {
   "cell_type": "code",
   "execution_count": 385,
   "metadata": {},
   "outputs": [
    {
     "name": "stdout",
     "output_type": "stream",
     "text": [
      "(0, 0, 0)  to  (1, 0, 1)  with action 1:  0.75 ,  0.75\n"
     ]
    }
   ],
   "source": [
    "# UNIT TESTS\n",
    "\n",
    "state_curr = (0, 0, 0)\n",
    "idx_curr = state_to_id[state_curr]\n",
    "state_next = (1, 0, 1)\n",
    "idx_next = state_to_id[state_next]\n",
    "prob_A1 = (1.0-P_ADV_TECHSTAGE)\n",
    "print(state_curr, \" to \", state_next, \" with action 1: \", transitions[1][idx_curr][idx_next], \", \", prob_A1)\n",
    "assert(transitions[1][idx_curr][idx_next] == prob_A1)"
   ]
  },
  {
   "cell_type": "code",
   "execution_count": 387,
   "metadata": {},
   "outputs": [],
   "source": [
    "mdp_v0 = mdp.mdp.MDP(transitions, rewards, DISC_RATE, 0.001, 100)"
   ]
  },
  {
   "cell_type": "code",
   "execution_count": null,
   "metadata": {
    "collapsed": true
   },
   "outputs": [],
   "source": []
  }
 ],
 "metadata": {
  "kernelspec": {
   "display_name": "Python 3",
   "language": "python",
   "name": "python3"
  },
  "language_info": {
   "codemirror_mode": {
    "name": "ipython",
    "version": 3
   },
   "file_extension": ".py",
   "mimetype": "text/x-python",
   "name": "python",
   "nbconvert_exporter": "python",
   "pygments_lexer": "ipython3",
   "version": "3.6.8"
  }
 },
 "nbformat": 4,
 "nbformat_minor": 2
}
